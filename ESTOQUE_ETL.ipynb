{
 "cells": [
  {
   "cell_type": "markdown",
   "metadata": {},
   "source": [
    "### ETL - ARQUIVOS EM DIRETÓRIO\n",
    "\n",
    "\n",
    "\n",
    "[Documentação do pymssql](https://pypi.org/project/pymssql/)"
   ]
  },
  {
   "cell_type": "markdown",
   "metadata": {},
   "source": [
    "#### Objetivo:\n",
    "\n",
    "- Extrair todos os arquivos dentro de um diretório com a extensão .xlsx\n",
    "- Consolidar os dados\n",
    "- Inputar em uma tabela no banco de dados SQL Server"
   ]
  },
  {
   "cell_type": "code",
   "execution_count": 1,
   "metadata": {},
   "outputs": [],
   "source": [
    "import os\n",
    "import pandas as pd\n",
    "import pymssql as sql"
   ]
  },
  {
   "cell_type": "code",
   "execution_count": 2,
   "metadata": {},
   "outputs": [],
   "source": [
    "#caminho onde os arquivos estão\n",
    "path = 'C:/Users/Lenovo/Desktop/ESTOQUE/BASE'\n",
    "#definindo o diretório\n",
    "try:\n",
    "    os.chdir(path) #seta o diretório\n",
    "except FileExistsError: #caso exista\n",
    "    print(\"Diretporio incorreto!\")\n",
    "else:\n",
    "    os.chdir(path) #use o diretório\n",
    "\n",
    "#lista os arquivos\n",
    "arquivos = os.listdir()"
   ]
  },
  {
   "cell_type": "code",
   "execution_count": 3,
   "metadata": {},
   "outputs": [],
   "source": [
    "#consolidando os dados\n",
    "lista_arquivo = []\n",
    "\n",
    "for pasta in arquivos:\n",
    "    if pasta.endswith(\".xlsx\"): #filtro por extenção de arquivos\n",
    "        lista_arquivo.append(pd.read_excel(pasta)) #inserindo arquivos na lista \n",
    "    \n",
    "df = pd.concat(lista_arquivo, ignore_index=True, axis=0)"
   ]
  },
  {
   "cell_type": "code",
   "execution_count": 4,
   "metadata": {},
   "outputs": [],
   "source": [
    "#Setando a conexão com SQL Server\n",
    "SERVER = 'localhost'\n",
    "DATABASE = 'DW_ESTOQUE'\n",
    "USERNAME = 'DESKTOP-C66TR5R\\Lenovo'\n",
    "PASSWORD = ''\n",
    "#criando conexção com SQL Server. Parâmetros: (servidor, usuario, senha, database)\n",
    "conexao = sql.connect(server=SERVER, user= '', password='', database=DATABASE)\n",
    "#cursor de conexão\n",
    "cursor = conexao.cursor()"
   ]
  },
  {
   "cell_type": "code",
   "execution_count": 5,
   "metadata": {},
   "outputs": [],
   "source": [
    "#looping insert no banco de  dados\n",
    "for lin in range(df.index.max() + 1):\n",
    "    Id_Produto = df.loc[lin][0]\n",
    "    Nome_Produto = df.loc[lin][1]\n",
    "    Categoria = df.loc[lin][2]\n",
    "    Data_Entrada = df.loc[lin][3] if pd.notna(df.loc[lin][3]) else None  # Verificar se a data existe\n",
    "    Data_Saida = df.loc[lin][4] if pd.notna(df.loc[lin][4]) else None\n",
    "    Local_Estoque = df.loc[lin][5]\n",
    "    Estoque_Inicial = df.loc[lin][6] if pd.notna(df.loc[lin][6]) else 0  # Definir valor padrão\n",
    "    Entradas = df.loc[lin][7] if pd.notna(df.loc[lin][7]) else 0\n",
    "    Saidas = df.loc[lin][8] if pd.notna(df.loc[lin][8]) else 0\n",
    "    Quebras = df.loc[lin][9] if pd.notna(df.loc[lin][9]) else 0\n",
    "    Perdas = df.loc[lin][10] if pd.notna(df.loc[lin][10]) else 0\n",
    "    Estoque_Final = df.loc[lin][11] if pd.notna(df.loc[lin][11]) else 0\n",
    "    Tempo_Vida_Produto = df.loc[lin][12] if pd.notna(df.loc[lin][12]) else 0\n",
    "    Data_Periodo = df.loc[lin][13] if pd.notna(df.loc[lin][13]) else None\n",
    "    Loja = df.loc[lin][14]\n",
    "    #inserindo valores no BD\n",
    "    insert_comando = f\"\"\"\n",
    "    INSERT INTO [DW_ESTOQUE].[dbo].[STG_ESTOQUE] (ID_Produto, Nome_Produto, Categoria, Data_Entrada, Data_Saida, Local_Estoque, Estoque_Inicial, Entradas, Saidas, Quebras, Perdas, Estoque_Final, Tempo_Vida_Produto, Data_Periodo, Loja) \n",
    "    VALUES\n",
    "    ('{Id_Produto}', '{Nome_Produto}','{Categoria}', '{Data_Entrada}', '{Data_Saida}', '{Local_Estoque}', {Estoque_Inicial}, {Entradas}, {Saidas}, {Quebras}, {Perdas}, {Estoque_Final}, {Tempo_Vida_Produto}, '{Data_Periodo}', '{Loja}')\"\"\"\n",
    "\n",
    "    cursor.execute(insert_comando)\n",
    "    #pprint(insert_comando)\n",
    "\n",
    "cursor.close()\n",
    "conexao.close()"
   ]
  },
  {
   "cell_type": "code",
   "execution_count": 6,
   "metadata": {},
   "outputs": [],
   "source": [
    "#Consultar dados no Sql Server\n",
    "#sql = \"SELECT TOP 10 * FROM [DW_ESTOQUE].[dbo].[STG_ESTOQUE]\"\n",
    "# Executando a query no banco de dados\n",
    "#cursor.execute(sql)\n",
    "# Recuperando os resultados\n",
    "#resultados = cursor.fetchall()\n",
    "\n",
    "# Imprimindo os resultados\n",
    "#for linha in resultados:\n",
    "#    print(linha)\n",
    "#insert_comando\n",
    "#cursor.close()\n",
    "#conexao.close()"
   ]
  }
 ],
 "metadata": {
  "kernelspec": {
   "display_name": "base",
   "language": "python",
   "name": "python3"
  },
  "language_info": {
   "codemirror_mode": {
    "name": "ipython",
    "version": 3
   },
   "file_extension": ".py",
   "mimetype": "text/x-python",
   "name": "python",
   "nbconvert_exporter": "python",
   "pygments_lexer": "ipython3",
   "version": "3.11.5"
  }
 },
 "nbformat": 4,
 "nbformat_minor": 2
}
